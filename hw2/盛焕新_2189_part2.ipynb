{
 "cells": [
  {
   "cell_type": "markdown",
   "metadata": {},
   "source": [
    "## 1.5 实践：基于前馈神经网络完成鸢尾花分类\n",
    "\n",
    "本实践中使用鸢尾花分类任务，分类器为前馈神经网络；损失函数为交叉熵损失；优化器为随机梯度下降法；评价指标为准确率。\n",
    "\n",
    "### 1.5.1 小批量梯度下降法\n",
    "在梯度下降法中，目标函数是整个训练集上的风险函数，这种方式称为**批量梯度下降法（Batch Gradient Descent，BGD）**。 批量梯度下降法在每次迭代时需要计算每个样本上损失函数的梯度并求和。当训练集中的样本数量$N$很大时，空间复杂度比较高，每次迭代的计算开销也很大。\n",
    "\n",
    "为了减少每次迭代的计算复杂度，我们可以在每次迭代时只采集一小部分样本，计算在这组样本上损失函数的梯度并更新参数，这种优化方式称为\n",
    "小批量梯度下降法（Mini-Batch Gradient Descent，Mini-Batch GD）。\n",
    "\n",
    "第$t$次迭代时，随机选取一个包含$K$个样本的子集$\\mathcal{B}_t$，计算这个子集上每个样本损失函数的梯度并进行平均，然后再进行参数更新。\n",
    "$$\n",
    "\\theta_{t+1} \\leftarrow \\theta_t  - \\alpha \\frac{1}{K} \\sum_{(\\boldsymbol{x},y)\\in \\mathcal{S}_t} \\frac{\\partial \\mathcal{L}\\Big(y,f(\\boldsymbol{x};\\theta)\\Big)}{\\partial \\theta},\n",
    "$$\n",
    "其中$K$为**批量大小(Batch Size)**。$K$通常不会设置很大，一般在$1\\sim100$之间。在实际应用中为了提高计算效率，通常设置为2的幂$2^n$。\n",
    "\n",
    "在实际应用中，小批量随机梯度下降法有收敛快、计算开销小的优点，因此逐渐成为大规模的机器学习中的主要优化算法。\n",
    "此外，随机梯度下降相当于在批量梯度下降的梯度上引入了随机噪声。在非凸优化问题中，随机梯度下降更容易逃离局部最优点。\n",
    "\n",
    "小批量随机梯度下降法的训练过程如下：\n",
    "\n",
    "![](https://ai-studio-static-online.cdn.bcebos.com/49287f7b41234d718fcc79b3f8edc64f366b05f460fb49cea88805777d508d82)\n"
   ]
  },
  {
   "cell_type": "markdown",
   "metadata": {},
   "source": [
    "#### 4.5.1.1 数据分组\n",
    "为了小批量梯度下降法，我们需要对数据进行随机分组。目前，机器学习中通常做法是构建一个**数据迭代器**，每个迭代过程中从全部数据集中获取一批指定数量的数据。\n",
    "\n",
    "数据迭代器的实现原理如下图所示：\n",
    "\n",
    "![](https://ai-studio-static-online.cdn.bcebos.com/337735d2bf6c49dda5415d791f6a320ffe739a809b3541faa26bfb8331506cb3)\n",
    "\n",
    "\n",
    "1. 首先，将数据集封装为Dataset类，传入一组索引值，根据索引从数据集合中获取数据；\n",
    "1. 其次，构建DataLoader类，需要指定数据批量的大小和是否需要对数据进行乱序，通过该类即可批量获取数据。\n",
    "\n",
    "在实践过程中，通常使用进行参数优化。在飞桨中，使用`paddle.io.DataLoader`加载minibatch的数据，\n",
    "`paddle.io.DataLoader`  API可以生成一个迭代器，其中通过设置`batch_size`参数来指定minibatch的长度，通过设置shuffle参数为True，可以在生成`minibatch`的索引列表时将索引顺序打乱。"
   ]
  },
  {
   "cell_type": "markdown",
   "metadata": {},
   "source": [
    "### 1.5.2 数据处理\n",
    "\n",
    "构造IrisDataset类进行数据读取，继承自`paddle.io.Dataset`类。`paddle.io.Dataset`是用来封装 Dataset的方法和行为的抽象类，通过一个索引获取指定的样本，同时对该样本进行数据处理。当继承`paddle.io.Dataset`来定义数据读取类时，实现如下方法：\n",
    "\n",
    "* `__getitem__`：根据给定索引获取数据集中指定样本，并对样本进行数据处理；\n",
    "* `__len__`：返回数据集样本个数。\n",
    "\n",
    "代码实现如下："
   ]
  },
  {
   "cell_type": "code",
   "execution_count": 1,
   "metadata": {
    "collapsed": false,
    "execution": {
     "iopub.execute_input": "2023-12-26T08:16:33.580546Z",
     "iopub.status.busy": "2023-12-26T08:16:33.580083Z",
     "iopub.status.idle": "2023-12-26T08:16:36.103038Z",
     "shell.execute_reply": "2023-12-26T08:16:36.102088Z",
     "shell.execute_reply.started": "2023-12-26T08:16:33.580517Z"
    },
    "jupyter": {
     "outputs_hidden": false
    },
    "scrolled": true
   },
   "outputs": [],
   "source": [
    "import numpy as np\n",
    "import paddle\n",
    "import paddle.io as io\n",
    "from nndl.dataset import load_data\n",
    "\n",
    "class IrisDataset(io.Dataset):\n",
    "    def __init__(self, mode='train', num_train=120, num_dev=15):\n",
    "        super(IrisDataset, self).__init__()\n",
    "        # 调用第三章中的数据读取函数，其中不需要将标签转成one-hot类型\n",
    "        X, y = load_data(shuffle=True)\n",
    "        if mode == 'train':\n",
    "            self.X, self.y = X[:num_train], y[:num_train]\n",
    "        elif mode == 'dev':\n",
    "            self.X, self.y = X[num_train:num_train + num_dev], y[num_train:num_train + num_dev]\n",
    "        else:\n",
    "            self.X, self.y = X[num_train + num_dev:], y[num_train + num_dev:]\n",
    "\n",
    "    def __getitem__(self, idx):\n",
    "        return self.X[idx], self.y[idx]\n",
    "\n",
    "    def __len__(self):\n",
    "        return len(self.y)"
   ]
  },
  {
   "cell_type": "code",
   "execution_count": 2,
   "metadata": {
    "collapsed": false,
    "execution": {
     "iopub.execute_input": "2023-12-26T08:16:37.476612Z",
     "iopub.status.busy": "2023-12-26T08:16:37.475664Z",
     "iopub.status.idle": "2023-12-26T08:16:37.808801Z",
     "shell.execute_reply": "2023-12-26T08:16:37.807806Z",
     "shell.execute_reply.started": "2023-12-26T08:16:37.476576Z"
    },
    "jupyter": {
     "outputs_hidden": false
    },
    "scrolled": true
   },
   "outputs": [
    {
     "name": "stderr",
     "output_type": "stream",
     "text": [
      "/opt/conda/envs/python35-paddle120-env/lib/python3.10/site-packages/paddle/fluid/variable_index.py:292: UserWarning: 1-D Tensor will be treat as advanced indexing in future version. Currently, 1-D Tensor means a scalar, not vector, and please modify it to 0-D Tensor. If advanced indexing is needed, please use `export FLAGS_set_to_1d=False` to set the flag.\r\n",
      "  warnings.warn(\r\n",
      "/opt/conda/envs/python35-paddle120-env/lib/python3.10/site-packages/paddle/fluid/variable_index.py:591: UserWarning: Warning: In Tensor '__getitem__', if the number of scalar elements in the index is equal to the rank of the Tensor, the output should be 0-D. In order to be consistent with the behavior of previous versions, it will be processed to 1-D. But it is not correct and will be removed in release 2.6. If 1-D is still wanted, please modify the index element from scalar to slice (e.g. 'x[i]' => 'x[i:i+1]').\r\n",
      "  warnings.warn(\r\n"
     ]
    }
   ],
   "source": [
    "paddle.seed(12)\n",
    "train_dataset = IrisDataset(mode='train')\n",
    "dev_dataset = IrisDataset(mode='dev')\n",
    "test_dataset = IrisDataset(mode='test')"
   ]
  },
  {
   "cell_type": "code",
   "execution_count": 3,
   "metadata": {
    "collapsed": false,
    "execution": {
     "iopub.execute_input": "2023-12-26T08:16:40.120867Z",
     "iopub.status.busy": "2023-12-26T08:16:40.120381Z",
     "iopub.status.idle": "2023-12-26T08:16:40.126030Z",
     "shell.execute_reply": "2023-12-26T08:16:40.125180Z",
     "shell.execute_reply.started": "2023-12-26T08:16:40.120836Z"
    },
    "jupyter": {
     "outputs_hidden": false
    },
    "scrolled": true
   },
   "outputs": [
    {
     "name": "stdout",
     "output_type": "stream",
     "text": [
      "length of train set:  120\r\n"
     ]
    }
   ],
   "source": [
    "# 打印训练集长度\n",
    "print (\"length of train set: \", len(train_dataset))"
   ]
  },
  {
   "cell_type": "markdown",
   "metadata": {},
   "source": [
    "#### 1.5.2.2 用DataLoader进行封装"
   ]
  },
  {
   "cell_type": "code",
   "execution_count": 4,
   "metadata": {
    "collapsed": false,
    "execution": {
     "iopub.execute_input": "2023-12-26T08:16:42.516903Z",
     "iopub.status.busy": "2023-12-26T08:16:42.516260Z",
     "iopub.status.idle": "2023-12-26T08:16:42.521913Z",
     "shell.execute_reply": "2023-12-26T08:16:42.521161Z",
     "shell.execute_reply.started": "2023-12-26T08:16:42.516869Z"
    },
    "jupyter": {
     "outputs_hidden": false
    },
    "scrolled": true
   },
   "outputs": [],
   "source": [
    "# 批量大小\n",
    "batch_size = 16\n",
    "\n",
    "# 加载数据\n",
    "train_loader = io.DataLoader(train_dataset, batch_size=batch_size, shuffle=True)\n",
    "dev_loader = io.DataLoader(dev_dataset, batch_size=batch_size)\n",
    "test_loader = io.DataLoader(test_dataset, batch_size=batch_size)"
   ]
  },
  {
   "cell_type": "markdown",
   "metadata": {},
   "source": [
    "### 1.5.3 模型构建\n",
    "\n",
    "构建一个简单的前馈神经网络进行鸢尾花分类实验。其中输入层神经元个数为4，输出层神经元个数为3，隐含层神经元个数为6。代码实现如下："
   ]
  },
  {
   "cell_type": "code",
   "execution_count": 5,
   "metadata": {
    "collapsed": false,
    "execution": {
     "iopub.execute_input": "2023-12-26T08:16:44.606806Z",
     "iopub.status.busy": "2023-12-26T08:16:44.606279Z",
     "iopub.status.idle": "2023-12-26T08:16:44.616321Z",
     "shell.execute_reply": "2023-12-26T08:16:44.615623Z",
     "shell.execute_reply.started": "2023-12-26T08:16:44.606774Z"
    },
    "jupyter": {
     "outputs_hidden": false
    },
    "scrolled": true
   },
   "outputs": [],
   "source": [
    "from paddle import nn\n",
    "\n",
    "# 定义前馈神经网络\n",
    "class Model_MLP_L2_V3(nn.Layer):\n",
    "    def __init__(self, input_size, output_size, hidden_size):\n",
    "        super(Model_MLP_L2_V3, self).__init__()\n",
    "        # 构建第一个全连接层\n",
    "        self.fc1 = nn.Linear(\n",
    "            input_size,\n",
    "            hidden_size,\n",
    "            weight_attr=paddle.ParamAttr(initializer=nn.initializer.Normal(mean=0.0, std=0.01)),\n",
    "            bias_attr=paddle.ParamAttr(initializer=nn.initializer.Constant(value=1.0))\n",
    "        )\n",
    "        # 构建第二全连接层\n",
    "        self.fc2 = nn.Linear(\n",
    "            hidden_size,\n",
    "            output_size,\n",
    "            weight_attr=paddle.ParamAttr(initializer=nn.initializer.Normal(mean=0.0, std=0.01)),\n",
    "            bias_attr=paddle.ParamAttr(initializer=nn.initializer.Constant(value=1.0))\n",
    "        )\n",
    "        # 定义网络使用的激活函数\n",
    "        self.act = nn.Sigmoid()\n",
    "\n",
    "    def forward(self, inputs):\n",
    "        outputs = self.fc1(inputs)\n",
    "        outputs = self.act(outputs)\n",
    "        outputs = self.fc2(outputs)\n",
    "        return outputs\n",
    "\n",
    "fnn_model = Model_MLP_L2_V3(input_size=4, output_size=3, hidden_size=6)"
   ]
  },
  {
   "cell_type": "markdown",
   "metadata": {},
   "source": [
    "### 1.5.4 完善Runner类\n",
    "\n",
    "基于一个基础的网络RunnerV2进行完善实现了RunnerV3类。其中训练过程使用自动梯度计算，使用`DataLoader`加载批量数据，使用随机梯度下降法进行参数优化；模型保存时，使用`state_dict`方法获取模型参数；模型加载时，使用`set_state_dict`方法加载模型参数.\n",
    "\n",
    "由于这里使用随机梯度下降法对参数优化，所以数据以批次的形式输入到模型中进行训练，那么评价指标计算也是分别在每个批次进行的，要想获得每个epoch整体的评价结果，需要对历史评价结果进行累积。这里定义`Accuracy`类实现该功能。"
   ]
  },
  {
   "cell_type": "code",
   "execution_count": 6,
   "metadata": {
    "collapsed": false,
    "execution": {
     "iopub.execute_input": "2023-12-26T08:16:47.963558Z",
     "iopub.status.busy": "2023-12-26T08:16:47.962727Z",
     "iopub.status.idle": "2023-12-26T08:16:47.972349Z",
     "shell.execute_reply": "2023-12-26T08:16:47.971456Z",
     "shell.execute_reply.started": "2023-12-26T08:16:47.963520Z"
    },
    "jupyter": {
     "outputs_hidden": false
    },
    "scrolled": true
   },
   "outputs": [],
   "source": [
    "from paddle.metric import Metric\n",
    "\n",
    "class Accuracy(Metric):\n",
    "    def __init__(self, is_logist=True):\n",
    "        \"\"\"\n",
    "        输入：\n",
    "           - is_logist: outputs是logist还是激活后的值\n",
    "        \"\"\"\n",
    "\n",
    "        # 用于统计正确的样本个数\n",
    "        self.num_correct = 0\n",
    "        # 用于统计样本的总数\n",
    "        self.num_count = 0\n",
    "\n",
    "        self.is_logist = is_logist\n",
    "\n",
    "    def update(self, outputs, labels):\n",
    "        \"\"\"\n",
    "        输入：\n",
    "           - outputs: 预测值, shape=[N,class_num]\n",
    "           - labels: 标签值, shape=[N,1]\n",
    "        \"\"\"\n",
    "\n",
    "        # 判断是二分类任务还是多分类任务，shape[1]=1时为二分类任务，shape[1]>1时为多分类任务\n",
    "        if outputs.shape[1] == 1: # 二分类\n",
    "            outputs = paddle.squeeze(outputs, axis=-1)\n",
    "            if self.is_logist:\n",
    "                # logist判断是否大于0\n",
    "                preds = paddle.cast((outputs>=0), dtype='float32')\n",
    "            else:\n",
    "                # 如果不是logist，判断每个概率值是否大于0.5，当大于0.5时，类别为1，否则类别为0\n",
    "                preds = paddle.cast((outputs>=0.5), dtype='float32')\n",
    "        else:\n",
    "            # 多分类时，使用'paddle.argmax'计算最大元素索引作为类别\n",
    "            preds = paddle.argmax(outputs, axis=1, dtype='int64')\n",
    "\n",
    "        # 获取本批数据中预测正确的样本个数\n",
    "        labels = paddle.squeeze(labels, axis=-1)\n",
    "        batch_correct = paddle.sum(paddle.cast(preds==labels, dtype=\"float32\")).numpy()[0]\n",
    "        batch_count = len(labels)\n",
    "\n",
    "        # 更新num_correct 和 num_count\n",
    "        self.num_correct += batch_correct\n",
    "        self.num_count += batch_count\n",
    "\n",
    "    def accumulate(self):\n",
    "        # 使用累计的数据，计算总的指标\n",
    "        if self.num_count == 0:\n",
    "            return 0\n",
    "        return self.num_correct / self.num_count\n",
    "\n",
    "    def reset(self):\n",
    "        # 重置正确的数目和总数\n",
    "        self.num_correct = 0\n",
    "        self.num_count = 0\n",
    "\n",
    "    def name(self):\n",
    "        return \"Accuracy\"\n"
   ]
  },
  {
   "cell_type": "markdown",
   "metadata": {},
   "source": [
    "RunnerV3类的代码实现如下："
   ]
  },
  {
   "cell_type": "code",
   "execution_count": 7,
   "metadata": {
    "collapsed": false,
    "execution": {
     "iopub.execute_input": "2023-12-26T08:16:53.870166Z",
     "iopub.status.busy": "2023-12-26T08:16:53.869648Z",
     "iopub.status.idle": "2023-12-26T08:16:53.886112Z",
     "shell.execute_reply": "2023-12-26T08:16:53.885258Z",
     "shell.execute_reply.started": "2023-12-26T08:16:53.870136Z"
    },
    "jupyter": {
     "outputs_hidden": false
    },
    "scrolled": true
   },
   "outputs": [],
   "source": [
    "import paddle.nn.functional as F\n",
    "\n",
    "class RunnerV3(object):\n",
    "    def __init__(self, model, optimizer, loss_fn, metric, **kwargs):\n",
    "        self.model = model\n",
    "        self.optimizer = optimizer\n",
    "        self.loss_fn = loss_fn\n",
    "        self.metric = metric # 只用于计算评价指标\n",
    "\n",
    "        # 记录训练过程中的评价指标变化情况\n",
    "        self.dev_scores = []\n",
    "\n",
    "        # 记录训练过程中的损失函数变化情况\n",
    "        self.train_epoch_losses = [] # 一个epoch记录一次loss\n",
    "        self.train_step_losses = []  # 一个step记录一次loss\n",
    "        self.dev_losses = []\n",
    "        \n",
    "        # 记录全局最优指标\n",
    "        self.best_score = 0\n",
    "\n",
    "    def train(self, train_loader, dev_loader=None, **kwargs):\n",
    "        # 将模型切换为训练模式\n",
    "        self.model.train()\n",
    "\n",
    "        # 传入训练轮数，如果没有传入值则默认为0\n",
    "        num_epochs = kwargs.get(\"num_epochs\", 0)\n",
    "        # 传入log打印频率，如果没有传入值则默认为100\n",
    "        log_steps = kwargs.get(\"log_steps\", 100)\n",
    "        # 评价频率\n",
    "        eval_steps = kwargs.get(\"eval_steps\", 0)\n",
    "\n",
    "        # 传入模型保存路径，如果没有传入值则默认为\"best_model.pdparams\"\n",
    "        save_path = kwargs.get(\"save_path\", \"best_model.pdparams\")\n",
    "\n",
    "        custom_print_log = kwargs.get(\"custom_print_log\", None) \n",
    "       \n",
    "        # 训练总的步数\n",
    "        num_training_steps = num_epochs * len(train_loader)\n",
    "\n",
    "        if eval_steps:\n",
    "            if self.metric is None:\n",
    "                raise RuntimeError('Error: Metric can not be None!')\n",
    "            if dev_loader is None:\n",
    "                raise RuntimeError('Error: dev_loader can not be None!')\n",
    "            \n",
    "        # 运行的step数目\n",
    "        global_step = 0\n",
    "\n",
    "        # 进行num_epochs轮训练\n",
    "        for epoch in range(num_epochs):\n",
    "            # 用于统计训练集的损失\n",
    "            total_loss = 0\n",
    "            for step, data in enumerate(train_loader):\n",
    "                X, y = data\n",
    "                # 获取模型预测\n",
    "                logits = self.model(X)\n",
    "                loss = self.loss_fn(logits, y) # 默认求mean\n",
    "                total_loss += loss \n",
    "\n",
    "                # 训练过程中，每个step的loss进行保存\n",
    "                self.train_step_losses.append((global_step,loss.item()))\n",
    "\n",
    "                if log_steps and global_step%log_steps==0:\n",
    "                    print(f\"[Train] epoch: {epoch}/{num_epochs}, step: {global_step}/{num_training_steps}, loss: {loss.item():.5f}\")\n",
    "                \n",
    "                # 梯度反向传播，计算每个参数的梯度值\n",
    "                loss.backward() \n",
    "\n",
    "                if custom_print_log:\n",
    "                   custom_print_log(self)\n",
    "                \n",
    "                # 小批量梯度下降进行参数更新\n",
    "                self.optimizer.step()\n",
    "                # 梯度归零\n",
    "                self.optimizer.clear_grad()\n",
    "\n",
    "                # 判断是否需要评价\n",
    "                if eval_steps>0 and global_step>0 and \\\n",
    "                    (global_step%eval_steps == 0 or global_step==(num_training_steps-1)):\n",
    "\n",
    "                    dev_score, dev_loss = self.evaluate(dev_loader, global_step=global_step)\n",
    "                    print(f\"[Evaluate]  dev score: {dev_score:.5f}, dev loss: {dev_loss:.5f}\") \n",
    "\n",
    "                    # 将模型切换为训练模式\n",
    "                    self.model.train()\n",
    "\n",
    "                    # 如果当前指标为最优指标，保存该模型\n",
    "                    if dev_score > self.best_score:\n",
    "                        self.save_model(save_path)\n",
    "                        print(f\"[Evaluate] best accuracy performence has been updated: {self.best_score:.5f} --> {dev_score:.5f}\")\n",
    "                        self.best_score = dev_score\n",
    "\n",
    "                global_step += 1\n",
    "            \n",
    "            # 当前epoch 训练loss累计值 \n",
    "            trn_loss = (total_loss / len(train_loader)).item()\n",
    "            # epoch粒度的训练loss保存\n",
    "            self.train_epoch_losses.append(trn_loss)\n",
    "            \n",
    "        print(\"[Train] Training done!\")\n",
    "\n",
    "    # 模型评估阶段，使用'paddle.no_grad()'控制不计算和存储梯度\n",
    "    @paddle.no_grad()\n",
    "    def evaluate(self, dev_loader, **kwargs):\n",
    "        assert self.metric is not None\n",
    "\n",
    "        # 将模型设置为评估模式\n",
    "        self.model.eval()\n",
    "\n",
    "        global_step = kwargs.get(\"global_step\", -1) \n",
    "\n",
    "        # 用于统计训练集的损失\n",
    "        total_loss = 0\n",
    "\n",
    "        # 重置评价\n",
    "        self.metric.reset() \n",
    "        \n",
    "        # 遍历验证集每个批次    \n",
    "        for batch_id, data in enumerate(dev_loader):\n",
    "            X, y = data\n",
    "    \n",
    "            # 计算模型输出\n",
    "            logits = self.model(X)\n",
    "            \n",
    "            # 计算损失函数\n",
    "            loss = self.loss_fn(logits, y).item()\n",
    "            # 累积损失\n",
    "            total_loss += loss \n",
    "\n",
    "            # 累积评价\n",
    "            self.metric.update(logits, y)\n",
    "\n",
    "        dev_loss = (total_loss/len(dev_loader))\n",
    "        dev_score = self.metric.accumulate() \n",
    "\n",
    "        # 记录验证集loss\n",
    "        if global_step!=-1:\n",
    "            self.dev_losses.append((global_step, dev_loss))\n",
    "            self.dev_scores.append(dev_score)\n",
    "        \n",
    "        return dev_score, dev_loss\n",
    "    \n",
    "    # 模型评估阶段，使用'paddle.no_grad()'控制不计算和存储梯度\n",
    "    @paddle.no_grad()\n",
    "    def predict(self, x, **kwargs):\n",
    "        # 将模型设置为评估模式\n",
    "        self.model.eval()\n",
    "        # 运行模型前向计算，得到预测值\n",
    "        logits = self.model(x)\n",
    "        return logits\n",
    "\n",
    "    def save_model(self, save_path):\n",
    "        paddle.save(self.model.state_dict(), save_path)\n",
    "\n",
    "    def load_model(self, model_path):\n",
    "        model_state_dict = paddle.load(model_path)\n",
    "        self.model.set_state_dict(model_state_dict)"
   ]
  },
  {
   "cell_type": "markdown",
   "metadata": {},
   "source": [
    "### 1.5.5 模型训练\n",
    "\n",
    "实例化RunnerV3类，并传入训练配置，代码实现如下："
   ]
  },
  {
   "cell_type": "code",
   "execution_count": 8,
   "metadata": {
    "collapsed": false,
    "execution": {
     "iopub.execute_input": "2023-12-26T08:16:58.856414Z",
     "iopub.status.busy": "2023-12-26T08:16:58.855918Z",
     "iopub.status.idle": "2023-12-26T08:16:58.861701Z",
     "shell.execute_reply": "2023-12-26T08:16:58.860889Z",
     "shell.execute_reply.started": "2023-12-26T08:16:58.856384Z"
    },
    "jupyter": {
     "outputs_hidden": false
    },
    "scrolled": true
   },
   "outputs": [],
   "source": [
    "import paddle.optimizer as opt\n",
    "\n",
    "lr = 0.2\n",
    "\n",
    "# 定义网络\n",
    "model = fnn_model\n",
    "\n",
    "# 定义优化器\n",
    "optimizer = opt.SGD(learning_rate=lr, parameters=model.parameters())\n",
    "\n",
    "# 定义损失函数。softmax+交叉熵\n",
    "loss_fn = F.cross_entropy\n",
    "\n",
    "# 定义评价指标\n",
    "metric = Accuracy(is_logist=True)\n",
    "\n",
    "runner = RunnerV3(model, optimizer, loss_fn, metric)"
   ]
  },
  {
   "cell_type": "markdown",
   "metadata": {},
   "source": [
    "使用训练集和验证集进行模型训练，共训练150个epoch。在实验中，保存准确率最高的模型作为最佳模型。代码实现如下："
   ]
  },
  {
   "cell_type": "code",
   "execution_count": 9,
   "metadata": {
    "collapsed": false,
    "execution": {
     "iopub.execute_input": "2023-12-26T08:17:01.280989Z",
     "iopub.status.busy": "2023-12-26T08:17:01.280482Z",
     "iopub.status.idle": "2023-12-26T08:17:03.545748Z",
     "shell.execute_reply": "2023-12-26T08:17:03.544562Z",
     "shell.execute_reply.started": "2023-12-26T08:17:01.280960Z"
    },
    "jupyter": {
     "outputs_hidden": false
    },
    "scrolled": true
   },
   "outputs": [
    {
     "name": "stdout",
     "output_type": "stream",
     "text": [
      "[Train] epoch: 0/150, step: 0/1200, loss: 1.09862\r\n",
      "[Evaluate]  dev score: 0.40000, dev loss: 1.09698\r\n",
      "[Evaluate] best accuracy performence has been updated: 0.00000 --> 0.40000\r\n",
      "[Train] epoch: 12/150, step: 100/1200, loss: 1.14937\r\n",
      "[Evaluate]  dev score: 0.40000, dev loss: 1.09135\r\n"
     ]
    },
    {
     "name": "stderr",
     "output_type": "stream",
     "text": [
      "I1226 16:17:01.434818  1726 eager_method.cc:140] Warning:: 0D Tensor cannot be used as 'Tensor.numpy()[0]' . In order to avoid this problem, 0D Tensor will be changed to 1D numpy currently, but it's not correct and will be removed in release 2.6. For Tensor contain only one element, Please modify  'Tensor.numpy()[0]' to 'float(Tensor)' as soon as possible, otherwise 'Tensor.numpy()[0]' will raise error in release 2.6.\r\n",
      "I1226 16:17:01.529585  1726 eager_method.cc:140] Warning:: 0D Tensor cannot be used as 'Tensor.numpy()[0]' . In order to avoid this problem, 0D Tensor will be changed to 1D numpy currently, but it's not correct and will be removed in release 2.6. For Tensor contain only one element, Please modify  'Tensor.numpy()[0]' to 'float(Tensor)' as soon as possible, otherwise 'Tensor.numpy()[0]' will raise error in release 2.6.\r\n",
      "I1226 16:17:01.624795  1726 eager_method.cc:140] Warning:: 0D Tensor cannot be used as 'Tensor.numpy()[0]' . In order to avoid this problem, 0D Tensor will be changed to 1D numpy currently, but it's not correct and will be removed in release 2.6. For Tensor contain only one element, Please modify  'Tensor.numpy()[0]' to 'float(Tensor)' as soon as possible, otherwise 'Tensor.numpy()[0]' will raise error in release 2.6.\r\n"
     ]
    },
    {
     "name": "stdout",
     "output_type": "stream",
     "text": [
      "[Evaluate]  dev score: 0.40000, dev loss: 1.08838\r\n",
      "[Train] epoch: 25/150, step: 200/1200, loss: 1.09891\r\n",
      "[Evaluate]  dev score: 0.40000, dev loss: 1.08594\r\n",
      "[Evaluate]  dev score: 0.40000, dev loss: 1.09131\r\n"
     ]
    },
    {
     "name": "stderr",
     "output_type": "stream",
     "text": [
      "I1226 16:17:01.713804  1726 eager_method.cc:140] Warning:: 0D Tensor cannot be used as 'Tensor.numpy()[0]' . In order to avoid this problem, 0D Tensor will be changed to 1D numpy currently, but it's not correct and will be removed in release 2.6. For Tensor contain only one element, Please modify  'Tensor.numpy()[0]' to 'float(Tensor)' as soon as possible, otherwise 'Tensor.numpy()[0]' will raise error in release 2.6.\r\n",
      "I1226 16:17:01.800307  1726 eager_method.cc:140] Warning:: 0D Tensor cannot be used as 'Tensor.numpy()[0]' . In order to avoid this problem, 0D Tensor will be changed to 1D numpy currently, but it's not correct and will be removed in release 2.6. For Tensor contain only one element, Please modify  'Tensor.numpy()[0]' to 'float(Tensor)' as soon as possible, otherwise 'Tensor.numpy()[0]' will raise error in release 2.6.\r\n",
      "I1226 16:17:01.888845  1726 eager_method.cc:140] Warning:: 0D Tensor cannot be used as 'Tensor.numpy()[0]' . In order to avoid this problem, 0D Tensor will be changed to 1D numpy currently, but it's not correct and will be removed in release 2.6. For Tensor contain only one element, Please modify  'Tensor.numpy()[0]' to 'float(Tensor)' as soon as possible, otherwise 'Tensor.numpy()[0]' will raise error in release 2.6.\r\n"
     ]
    },
    {
     "name": "stdout",
     "output_type": "stream",
     "text": [
      "[Train] epoch: 37/150, step: 300/1200, loss: 1.00115\r\n",
      "[Evaluate]  dev score: 0.40000, dev loss: 1.09148\r\n",
      "[Evaluate]  dev score: 0.40000, dev loss: 1.03086\r\n",
      "[Train] epoch: 50/150, step: 400/1200, loss: 0.94129\r\n",
      "[Evaluate]  dev score: 0.46667, dev loss: 0.92721\r\n",
      "[Evaluate] best accuracy performence has been updated: 0.40000 --> 0.46667\r\n"
     ]
    },
    {
     "name": "stderr",
     "output_type": "stream",
     "text": [
      "I1226 16:17:01.979004  1726 eager_method.cc:140] Warning:: 0D Tensor cannot be used as 'Tensor.numpy()[0]' . In order to avoid this problem, 0D Tensor will be changed to 1D numpy currently, but it's not correct and will be removed in release 2.6. For Tensor contain only one element, Please modify  'Tensor.numpy()[0]' to 'float(Tensor)' as soon as possible, otherwise 'Tensor.numpy()[0]' will raise error in release 2.6.\r\n",
      "I1226 16:17:02.070436  1726 eager_method.cc:140] Warning:: 0D Tensor cannot be used as 'Tensor.numpy()[0]' . In order to avoid this problem, 0D Tensor will be changed to 1D numpy currently, but it's not correct and will be removed in release 2.6. For Tensor contain only one element, Please modify  'Tensor.numpy()[0]' to 'float(Tensor)' as soon as possible, otherwise 'Tensor.numpy()[0]' will raise error in release 2.6.\r\n",
      "I1226 16:17:02.162946  1726 eager_method.cc:140] Warning:: 0D Tensor cannot be used as 'Tensor.numpy()[0]' . In order to avoid this problem, 0D Tensor will be changed to 1D numpy currently, but it's not correct and will be removed in release 2.6. For Tensor contain only one element, Please modify  'Tensor.numpy()[0]' to 'float(Tensor)' as soon as possible, otherwise 'Tensor.numpy()[0]' will raise error in release 2.6.\r\n"
     ]
    },
    {
     "name": "stdout",
     "output_type": "stream",
     "text": [
      "[Evaluate]  dev score: 0.80000, dev loss: 0.77776\r\n",
      "[Evaluate] best accuracy performence has been updated: 0.46667 --> 0.80000\r\n",
      "[Train] epoch: 62/150, step: 500/1200, loss: 0.70199\r\n",
      "[Evaluate]  dev score: 0.80000, dev loss: 0.63983\r\n",
      "[Evaluate]  dev score: 0.93333, dev loss: 0.54415\r\n",
      "[Evaluate] best accuracy performence has been updated: 0.80000 --> 0.93333\r\n"
     ]
    },
    {
     "name": "stderr",
     "output_type": "stream",
     "text": [
      "I1226 16:17:02.258417  1726 eager_method.cc:140] Warning:: 0D Tensor cannot be used as 'Tensor.numpy()[0]' . In order to avoid this problem, 0D Tensor will be changed to 1D numpy currently, but it's not correct and will be removed in release 2.6. For Tensor contain only one element, Please modify  'Tensor.numpy()[0]' to 'float(Tensor)' as soon as possible, otherwise 'Tensor.numpy()[0]' will raise error in release 2.6.\r\n",
      "I1226 16:17:02.345458  1726 eager_method.cc:140] Warning:: 0D Tensor cannot be used as 'Tensor.numpy()[0]' . In order to avoid this problem, 0D Tensor will be changed to 1D numpy currently, but it's not correct and will be removed in release 2.6. For Tensor contain only one element, Please modify  'Tensor.numpy()[0]' to 'float(Tensor)' as soon as possible, otherwise 'Tensor.numpy()[0]' will raise error in release 2.6.\r\n",
      "I1226 16:17:02.439519  1726 eager_method.cc:140] Warning:: 0D Tensor cannot be used as 'Tensor.numpy()[0]' . In order to avoid this problem, 0D Tensor will be changed to 1D numpy currently, but it's not correct and will be removed in release 2.6. For Tensor contain only one element, Please modify  'Tensor.numpy()[0]' to 'float(Tensor)' as soon as possible, otherwise 'Tensor.numpy()[0]' will raise error in release 2.6.\r\n"
     ]
    },
    {
     "name": "stdout",
     "output_type": "stream",
     "text": [
      "[Train] epoch: 75/150, step: 600/1200, loss: 0.43442\r\n",
      "[Evaluate]  dev score: 0.86667, dev loss: 0.48540\r\n",
      "[Evaluate]  dev score: 0.93333, dev loss: 0.43963\r\n",
      "[Train] epoch: 87/150, step: 700/1200, loss: 0.49862\r\n",
      "[Evaluate]  dev score: 1.00000, dev loss: 0.40922\r\n",
      "[Evaluate] best accuracy performence has been updated: 0.93333 --> 1.00000\r\n"
     ]
    },
    {
     "name": "stderr",
     "output_type": "stream",
     "text": [
      "I1226 16:17:02.531461  1726 eager_method.cc:140] Warning:: 0D Tensor cannot be used as 'Tensor.numpy()[0]' . In order to avoid this problem, 0D Tensor will be changed to 1D numpy currently, but it's not correct and will be removed in release 2.6. For Tensor contain only one element, Please modify  'Tensor.numpy()[0]' to 'float(Tensor)' as soon as possible, otherwise 'Tensor.numpy()[0]' will raise error in release 2.6.\r\n",
      "I1226 16:17:02.620134  1726 eager_method.cc:140] Warning:: 0D Tensor cannot be used as 'Tensor.numpy()[0]' . In order to avoid this problem, 0D Tensor will be changed to 1D numpy currently, but it's not correct and will be removed in release 2.6. For Tensor contain only one element, Please modify  'Tensor.numpy()[0]' to 'float(Tensor)' as soon as possible, otherwise 'Tensor.numpy()[0]' will raise error in release 2.6.\r\n",
      "I1226 16:17:02.708503  1726 eager_method.cc:140] Warning:: 0D Tensor cannot be used as 'Tensor.numpy()[0]' . In order to avoid this problem, 0D Tensor will be changed to 1D numpy currently, but it's not correct and will be removed in release 2.6. For Tensor contain only one element, Please modify  'Tensor.numpy()[0]' to 'float(Tensor)' as soon as possible, otherwise 'Tensor.numpy()[0]' will raise error in release 2.6.\r\n"
     ]
    },
    {
     "name": "stdout",
     "output_type": "stream",
     "text": [
      "[Evaluate]  dev score: 1.00000, dev loss: 0.38428\r\n",
      "[Train] epoch: 100/150, step: 800/1200, loss: 0.29653\r\n",
      "[Evaluate]  dev score: 0.80000, dev loss: 0.37453\r\n",
      "[Evaluate]  dev score: 0.93333, dev loss: 0.33972\r\n"
     ]
    },
    {
     "name": "stderr",
     "output_type": "stream",
     "text": [
      "I1226 16:17:02.803179  1726 eager_method.cc:140] Warning:: 0D Tensor cannot be used as 'Tensor.numpy()[0]' . In order to avoid this problem, 0D Tensor will be changed to 1D numpy currently, but it's not correct and will be removed in release 2.6. For Tensor contain only one element, Please modify  'Tensor.numpy()[0]' to 'float(Tensor)' as soon as possible, otherwise 'Tensor.numpy()[0]' will raise error in release 2.6.\r\n",
      "I1226 16:17:02.892277  1726 eager_method.cc:140] Warning:: 0D Tensor cannot be used as 'Tensor.numpy()[0]' . In order to avoid this problem, 0D Tensor will be changed to 1D numpy currently, but it's not correct and will be removed in release 2.6. For Tensor contain only one element, Please modify  'Tensor.numpy()[0]' to 'float(Tensor)' as soon as possible, otherwise 'Tensor.numpy()[0]' will raise error in release 2.6.\r\n",
      "I1226 16:17:02.983263  1726 eager_method.cc:140] Warning:: 0D Tensor cannot be used as 'Tensor.numpy()[0]' . In order to avoid this problem, 0D Tensor will be changed to 1D numpy currently, but it's not correct and will be removed in release 2.6. For Tensor contain only one element, Please modify  'Tensor.numpy()[0]' to 'float(Tensor)' as soon as possible, otherwise 'Tensor.numpy()[0]' will raise error in release 2.6.\r\n"
     ]
    },
    {
     "name": "stdout",
     "output_type": "stream",
     "text": [
      "[Train] epoch: 112/150, step: 900/1200, loss: 0.35408\r\n",
      "[Evaluate]  dev score: 1.00000, dev loss: 0.32045\r\n",
      "[Evaluate]  dev score: 1.00000, dev loss: 0.30739\r\n",
      "[Train] epoch: 125/150, step: 1000/1200, loss: 0.30250\r\n",
      "[Evaluate]  dev score: 0.93333, dev loss: 0.28491\r\n"
     ]
    },
    {
     "name": "stderr",
     "output_type": "stream",
     "text": [
      "I1226 16:17:03.072230  1726 eager_method.cc:140] Warning:: 0D Tensor cannot be used as 'Tensor.numpy()[0]' . In order to avoid this problem, 0D Tensor will be changed to 1D numpy currently, but it's not correct and will be removed in release 2.6. For Tensor contain only one element, Please modify  'Tensor.numpy()[0]' to 'float(Tensor)' as soon as possible, otherwise 'Tensor.numpy()[0]' will raise error in release 2.6.\r\n",
      "I1226 16:17:03.174403  1726 eager_method.cc:140] Warning:: 0D Tensor cannot be used as 'Tensor.numpy()[0]' . In order to avoid this problem, 0D Tensor will be changed to 1D numpy currently, but it's not correct and will be removed in release 2.6. For Tensor contain only one element, Please modify  'Tensor.numpy()[0]' to 'float(Tensor)' as soon as possible, otherwise 'Tensor.numpy()[0]' will raise error in release 2.6.\r\n",
      "I1226 16:17:03.270982  1726 eager_method.cc:140] Warning:: 0D Tensor cannot be used as 'Tensor.numpy()[0]' . In order to avoid this problem, 0D Tensor will be changed to 1D numpy currently, but it's not correct and will be removed in release 2.6. For Tensor contain only one element, Please modify  'Tensor.numpy()[0]' to 'float(Tensor)' as soon as possible, otherwise 'Tensor.numpy()[0]' will raise error in release 2.6.\r\n"
     ]
    },
    {
     "name": "stdout",
     "output_type": "stream",
     "text": [
      "[Evaluate]  dev score: 1.00000, dev loss: 0.27021\r\n",
      "[Train] epoch: 137/150, step: 1100/1200, loss: 0.21231\r\n",
      "[Evaluate]  dev score: 1.00000, dev loss: 0.25880\r\n",
      "[Evaluate]  dev score: 0.93333, dev loss: 0.24206\r\n",
      "[Evaluate]  dev score: 1.00000, dev loss: 0.23440\r\n",
      "[Train] Training done!\r\n"
     ]
    },
    {
     "name": "stderr",
     "output_type": "stream",
     "text": [
      "I1226 16:17:03.360915  1726 eager_method.cc:140] Warning:: 0D Tensor cannot be used as 'Tensor.numpy()[0]' . In order to avoid this problem, 0D Tensor will be changed to 1D numpy currently, but it's not correct and will be removed in release 2.6. For Tensor contain only one element, Please modify  'Tensor.numpy()[0]' to 'float(Tensor)' as soon as possible, otherwise 'Tensor.numpy()[0]' will raise error in release 2.6.\r\n",
      "I1226 16:17:03.450371  1726 eager_method.cc:140] Warning:: 0D Tensor cannot be used as 'Tensor.numpy()[0]' . In order to avoid this problem, 0D Tensor will be changed to 1D numpy currently, but it's not correct and will be removed in release 2.6. For Tensor contain only one element, Please modify  'Tensor.numpy()[0]' to 'float(Tensor)' as soon as possible, otherwise 'Tensor.numpy()[0]' will raise error in release 2.6.\r\n",
      "I1226 16:17:03.541106  1726 eager_method.cc:140] Warning:: 0D Tensor cannot be used as 'Tensor.numpy()[0]' . In order to avoid this problem, 0D Tensor will be changed to 1D numpy currently, but it's not correct and will be removed in release 2.6. For Tensor contain only one element, Please modify  'Tensor.numpy()[0]' to 'float(Tensor)' as soon as possible, otherwise 'Tensor.numpy()[0]' will raise error in release 2.6.\r\n"
     ]
    }
   ],
   "source": [
    "# 启动训练\n",
    "log_steps = 100\n",
    "eval_steps = 50\n",
    "runner.train(train_loader, dev_loader, \n",
    "            num_epochs=150, log_steps=log_steps, eval_steps = eval_steps,\n",
    "            save_path=\"best_model.pdparams\") "
   ]
  },
  {
   "cell_type": "markdown",
   "metadata": {},
   "source": [
    "可视化观察训练集损失和训练集loss变化情况。"
   ]
  },
  {
   "cell_type": "code",
   "execution_count": 10,
   "metadata": {
    "collapsed": false,
    "execution": {
     "iopub.execute_input": "2023-12-26T08:17:08.239858Z",
     "iopub.status.busy": "2023-12-26T08:17:08.239374Z",
     "iopub.status.idle": "2023-12-26T08:17:08.848708Z",
     "shell.execute_reply": "2023-12-26T08:17:08.847848Z",
     "shell.execute_reply.started": "2023-12-26T08:17:08.239830Z"
    },
    "jupyter": {
     "outputs_hidden": false
    },
    "scrolled": true
   },
   "outputs": [
    {
     "data": {
      "image/png": "[encoded data removed]",
      "text/plain": [
       "<Figure size 1600x600 with 2 Axes>"
      ]
     },
     "metadata": {},
     "output_type": "display_data"
    }
   ],
   "source": [
    "import matplotlib.pyplot as plt\n",
    "\n",
    "# 绘制训练集和验证集的损失变化以及验证集上的准确率变化曲线\n",
    "def plot_training_loss_acc(runner, fig_name, \n",
    "    fig_size=(16, 6), \n",
    "    sample_step=20, \n",
    "    loss_legend_loc=\"upper right\", \n",
    "    acc_legend_loc=\"lower right\",\n",
    "    train_color=\"#e4007f\",\n",
    "    dev_color='#f19ec2',\n",
    "    fontsize='large',\n",
    "    train_linestyle=\"-\",\n",
    "    dev_linestyle='--'):\n",
    "\n",
    "    plt.figure(figsize=fig_size)\n",
    "\n",
    "    plt.subplot(1,2,1)\n",
    "    train_items = runner.train_step_losses[::sample_step]\n",
    "    train_steps=[x[0] for x in train_items]\n",
    "    train_losses = [x[1] for x in train_items]\n",
    "\n",
    "    plt.plot(train_steps, train_losses, color=train_color, linestyle=train_linestyle, label=\"Train loss\")\n",
    "    if len(runner.dev_losses)>0:\n",
    "        dev_steps=[x[0] for x in runner.dev_losses]\n",
    "        dev_losses = [x[1] for x in runner.dev_losses]\n",
    "        plt.plot(dev_steps, dev_losses, color=dev_color, linestyle=dev_linestyle, label=\"Dev loss\")\n",
    "    # 绘制坐标轴和图例\n",
    "    plt.ylabel(\"loss\", fontsize=fontsize)\n",
    "    plt.xlabel(\"step\", fontsize=fontsize)\n",
    "    plt.legend(loc=loss_legend_loc, fontsize='x-large')\n",
    "\n",
    "    # 绘制评价准确率变化曲线\n",
    "    if len(runner.dev_scores)>0:\n",
    "        plt.subplot(1,2,2)\n",
    "        plt.plot(dev_steps, runner.dev_scores,\n",
    "            color=dev_color, linestyle=dev_linestyle, label=\"Dev accuracy\")\n",
    "    \n",
    "        # 绘制坐标轴和图例\n",
    "        plt.ylabel(\"score\", fontsize=fontsize)\n",
    "        plt.xlabel(\"step\", fontsize=fontsize)\n",
    "        plt.legend(loc=acc_legend_loc, fontsize='x-large')\n",
    "\n",
    "    plt.savefig(fig_name)\n",
    "    plt.show()\n",
    "\n",
    "plot_training_loss_acc(runner, 'fw-loss.pdf')"
   ]
  },
  {
   "cell_type": "markdown",
   "metadata": {},
   "source": [
    "从输出结果可以看出准确率随着迭代次数增加逐渐上升，损失函数下降。"
   ]
  },
  {
   "cell_type": "markdown",
   "metadata": {},
   "source": [
    "### 1.5.6 模型评价\n",
    "\n",
    "使用测试数据对在训练过程中保存的最佳模型进行评价，观察模型在测试集上的准确率以及Loss情况。代码实现如下："
   ]
  },
  {
   "cell_type": "code",
   "execution_count": 11,
   "metadata": {
    "collapsed": false,
    "execution": {
     "iopub.execute_input": "2023-12-26T08:17:12.659769Z",
     "iopub.status.busy": "2023-12-26T08:17:12.659157Z",
     "iopub.status.idle": "2023-12-26T08:17:12.668653Z",
     "shell.execute_reply": "2023-12-26T08:17:12.667944Z",
     "shell.execute_reply.started": "2023-12-26T08:17:12.659738Z"
    },
    "jupyter": {
     "outputs_hidden": false
    },
    "scrolled": true
   },
   "outputs": [
    {
     "name": "stdout",
     "output_type": "stream",
     "text": [
      "[Test] accuracy/loss: 0.8000/0.5060\r\n"
     ]
    },
    {
     "name": "stderr",
     "output_type": "stream",
     "text": [
      "I1226 16:17:12.665455  1726 eager_method.cc:140] Warning:: 0D Tensor cannot be used as 'Tensor.numpy()[0]' . In order to avoid this problem, 0D Tensor will be changed to 1D numpy currently, but it's not correct and will be removed in release 2.6. For Tensor contain only one element, Please modify  'Tensor.numpy()[0]' to 'float(Tensor)' as soon as possible, otherwise 'Tensor.numpy()[0]' will raise error in release 2.6.\r\n"
     ]
    }
   ],
   "source": [
    "# 加载最优模型\n",
    "runner.load_model('best_model.pdparams')\n",
    "# 模型评价\n",
    "score, loss = runner.evaluate(test_loader)\n",
    "print(\"[Test] accuracy/loss: {:.4f}/{:.4f}\".format(score, loss))"
   ]
  },
  {
   "cell_type": "markdown",
   "metadata": {},
   "source": [
    "### 1.5.7 模型预测\n",
    "\n",
    "同样地，也可以使用保存好的模型，对测试集中的某一个数据进行模型预测，观察模型效果。代码实现如下："
   ]
  },
  {
   "cell_type": "code",
   "execution_count": 12,
   "metadata": {
    "collapsed": false,
    "execution": {
     "iopub.execute_input": "2023-12-26T08:17:15.847318Z",
     "iopub.status.busy": "2023-12-26T08:17:15.846826Z",
     "iopub.status.idle": "2023-12-26T08:17:15.856716Z",
     "shell.execute_reply": "2023-12-26T08:17:15.855808Z",
     "shell.execute_reply.started": "2023-12-26T08:17:15.847289Z"
    },
    "jupyter": {
     "outputs_hidden": false
    },
    "scrolled": true
   },
   "outputs": [
    {
     "name": "stdout",
     "output_type": "stream",
     "text": [
      "The true category is [2] and the predicted category is [2]\r\n"
     ]
    },
    {
     "name": "stderr",
     "output_type": "stream",
     "text": [
      "I1226 16:17:15.852708  1726 eager_method.cc:140] Warning:: 0D Tensor cannot be used as 'Tensor.numpy()[0]' . In order to avoid this problem, 0D Tensor will be changed to 1D numpy currently, but it's not correct and will be removed in release 2.6. For Tensor contain only one element, Please modify  'Tensor.numpy()[0]' to 'float(Tensor)' as soon as possible, otherwise 'Tensor.numpy()[0]' will raise error in release 2.6.\r\n"
     ]
    }
   ],
   "source": [
    "# 获取测试集中第一条数据\n",
    "X, label = next(test_loader())\n",
    "logits = runner.predict(X)\n",
    "\n",
    "pred_class = paddle.argmax(logits[0]).numpy()\n",
    "label = label[0][0].numpy()\n",
    "\n",
    "# 输出真实类别与预测类别\n",
    "print(\"The true category is {} and the predicted category is {}\".format(label, pred_class))"
   ]
  },
  {
   "cell_type": "markdown",
   "metadata": {},
   "source": [
    "## 1.6 小结\n",
    "\n",
    "本次作业介绍了前馈神经网络的基本概念、网络结构及代码实现，利用前馈神经网络完成一个分类任务，并通过两个简单的实验，观察前馈神经网络的梯度消失问题和死亡ReLU问题，以及对应的优化策略。\n",
    "此外，还实践了基于前馈神经网络完成鸢尾花分类任务。"
   ]
  }
 ],
 "metadata": {
  "kernelspec": {
   "display_name": "Python 3",
   "language": "python",
   "name": "py35-paddle1.2.0"
  },
  "language_info": {
   "codemirror_mode": {
    "name": "ipython",
    "version": 3
   },
   "file_extension": ".py",
   "mimetype": "text/x-python",
   "name": "python",
   "nbconvert_exporter": "python",
   "pygments_lexer": "ipython3",
   "version": "3.10.10"
  },
  "vscode": {
   "interpreter": {
    "hash": "40685bceadcd16d3fd389a51c88747e341b13dea9577a68c304b7c4358bc1411"
   }
  }
 },
 "nbformat": 4,
 "nbformat_minor": 4
}
